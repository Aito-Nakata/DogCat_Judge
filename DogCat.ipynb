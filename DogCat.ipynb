{
  "nbformat": 4,
  "nbformat_minor": 0,
  "metadata": {
    "colab": {
      "name": "DogCat",
      "provenance": [],
      "authorship_tag": "ABX9TyPa2DdcACxyxJ5YmAmCak6B",
      "include_colab_link": true
    },
    "kernelspec": {
      "name": "python3",
      "display_name": "Python 3"
    },
    "language_info": {
      "name": "python"
    }
  },
  "cells": [
    {
      "cell_type": "markdown",
      "metadata": {
        "id": "view-in-github",
        "colab_type": "text"
      },
      "source": [
        "<a href=\"https://colab.research.google.com/github/Aito-Nakata/DogCat_Judge/blob/main/DogCat.ipynb\" target=\"_parent\"><img src=\"https://colab.research.google.com/assets/colab-badge.svg\" alt=\"Open In Colab\"/></a>"
      ]
    },
    {
      "cell_type": "code",
      "metadata": {
        "colab": {
          "base_uri": "https://localhost:8080/"
        },
        "id": "VF1swD27nhuC",
        "outputId": "9f0bf8a5-6197-4b87-9cff-d6d320304a37"
      },
      "source": [
        "!pip install keras==2.2.4"
      ],
      "execution_count": 1,
      "outputs": [
        {
          "output_type": "stream",
          "name": "stdout",
          "text": [
            "Collecting keras==2.2.4\n",
            "  Downloading Keras-2.2.4-py2.py3-none-any.whl (312 kB)\n",
            "\u001b[?25l\r\u001b[K     |█                               | 10 kB 23.4 MB/s eta 0:00:01\r\u001b[K     |██                              | 20 kB 15.0 MB/s eta 0:00:01\r\u001b[K     |███▏                            | 30 kB 10.4 MB/s eta 0:00:01\r\u001b[K     |████▏                           | 40 kB 9.2 MB/s eta 0:00:01\r\u001b[K     |█████▎                          | 51 kB 5.1 MB/s eta 0:00:01\r\u001b[K     |██████▎                         | 61 kB 5.5 MB/s eta 0:00:01\r\u001b[K     |███████▍                        | 71 kB 5.2 MB/s eta 0:00:01\r\u001b[K     |████████▍                       | 81 kB 5.9 MB/s eta 0:00:01\r\u001b[K     |█████████▍                      | 92 kB 5.6 MB/s eta 0:00:01\r\u001b[K     |██████████▌                     | 102 kB 5.0 MB/s eta 0:00:01\r\u001b[K     |███████████▌                    | 112 kB 5.0 MB/s eta 0:00:01\r\u001b[K     |████████████▋                   | 122 kB 5.0 MB/s eta 0:00:01\r\u001b[K     |█████████████▋                  | 133 kB 5.0 MB/s eta 0:00:01\r\u001b[K     |██████████████▊                 | 143 kB 5.0 MB/s eta 0:00:01\r\u001b[K     |███████████████▊                | 153 kB 5.0 MB/s eta 0:00:01\r\u001b[K     |████████████████▊               | 163 kB 5.0 MB/s eta 0:00:01\r\u001b[K     |█████████████████▉              | 174 kB 5.0 MB/s eta 0:00:01\r\u001b[K     |██████████████████▉             | 184 kB 5.0 MB/s eta 0:00:01\r\u001b[K     |████████████████████            | 194 kB 5.0 MB/s eta 0:00:01\r\u001b[K     |█████████████████████           | 204 kB 5.0 MB/s eta 0:00:01\r\u001b[K     |██████████████████████          | 215 kB 5.0 MB/s eta 0:00:01\r\u001b[K     |███████████████████████         | 225 kB 5.0 MB/s eta 0:00:01\r\u001b[K     |████████████████████████▏       | 235 kB 5.0 MB/s eta 0:00:01\r\u001b[K     |█████████████████████████▏      | 245 kB 5.0 MB/s eta 0:00:01\r\u001b[K     |██████████████████████████▏     | 256 kB 5.0 MB/s eta 0:00:01\r\u001b[K     |███████████████████████████▎    | 266 kB 5.0 MB/s eta 0:00:01\r\u001b[K     |████████████████████████████▎   | 276 kB 5.0 MB/s eta 0:00:01\r\u001b[K     |█████████████████████████████▍  | 286 kB 5.0 MB/s eta 0:00:01\r\u001b[K     |██████████████████████████████▍ | 296 kB 5.0 MB/s eta 0:00:01\r\u001b[K     |███████████████████████████████▌| 307 kB 5.0 MB/s eta 0:00:01\r\u001b[K     |████████████████████████████████| 312 kB 5.0 MB/s \n",
            "\u001b[?25hCollecting keras-applications>=1.0.6\n",
            "  Downloading Keras_Applications-1.0.8-py3-none-any.whl (50 kB)\n",
            "\u001b[K     |████████████████████████████████| 50 kB 6.8 MB/s \n",
            "\u001b[?25hRequirement already satisfied: scipy>=0.14 in /usr/local/lib/python3.7/dist-packages (from keras==2.2.4) (1.4.1)\n",
            "Requirement already satisfied: pyyaml in /usr/local/lib/python3.7/dist-packages (from keras==2.2.4) (3.13)\n",
            "Requirement already satisfied: numpy>=1.9.1 in /usr/local/lib/python3.7/dist-packages (from keras==2.2.4) (1.19.5)\n",
            "Requirement already satisfied: keras-preprocessing>=1.0.5 in /usr/local/lib/python3.7/dist-packages (from keras==2.2.4) (1.1.2)\n",
            "Requirement already satisfied: six>=1.9.0 in /usr/local/lib/python3.7/dist-packages (from keras==2.2.4) (1.15.0)\n",
            "Requirement already satisfied: h5py in /usr/local/lib/python3.7/dist-packages (from keras==2.2.4) (3.1.0)\n",
            "Requirement already satisfied: cached-property in /usr/local/lib/python3.7/dist-packages (from h5py->keras==2.2.4) (1.5.2)\n",
            "Installing collected packages: keras-applications, keras\n",
            "  Attempting uninstall: keras\n",
            "    Found existing installation: keras 2.7.0\n",
            "    Uninstalling keras-2.7.0:\n",
            "      Successfully uninstalled keras-2.7.0\n",
            "\u001b[31mERROR: pip's dependency resolver does not currently take into account all the packages that are installed. This behaviour is the source of the following dependency conflicts.\n",
            "tensorflow 2.7.0 requires keras<2.8,>=2.7.0rc0, but you have keras 2.2.4 which is incompatible.\u001b[0m\n",
            "Successfully installed keras-2.2.4 keras-applications-1.0.8\n"
          ]
        }
      ]
    },
    {
      "cell_type": "code",
      "metadata": {
        "colab": {
          "base_uri": "https://localhost:8080/"
        },
        "id": "TtEu0kD3n_Hx",
        "outputId": "2e546259-56e9-4de1-dbeb-d78f7c972a83"
      },
      "source": [
        "!pip install icrawler"
      ],
      "execution_count": 2,
      "outputs": [
        {
          "output_type": "stream",
          "name": "stdout",
          "text": [
            "Collecting icrawler\n",
            "  Downloading icrawler-0.6.6-py2.py3-none-any.whl (35 kB)\n",
            "Requirement already satisfied: Pillow in /usr/local/lib/python3.7/dist-packages (from icrawler) (7.1.2)\n",
            "Requirement already satisfied: requests>=2.9.1 in /usr/local/lib/python3.7/dist-packages (from icrawler) (2.23.0)\n",
            "Requirement already satisfied: six>=1.10.0 in /usr/local/lib/python3.7/dist-packages (from icrawler) (1.15.0)\n",
            "Requirement already satisfied: beautifulsoup4>=4.4.1 in /usr/local/lib/python3.7/dist-packages (from icrawler) (4.6.3)\n",
            "Requirement already satisfied: lxml in /usr/local/lib/python3.7/dist-packages (from icrawler) (4.2.6)\n",
            "Requirement already satisfied: chardet<4,>=3.0.2 in /usr/local/lib/python3.7/dist-packages (from requests>=2.9.1->icrawler) (3.0.4)\n",
            "Requirement already satisfied: idna<3,>=2.5 in /usr/local/lib/python3.7/dist-packages (from requests>=2.9.1->icrawler) (2.10)\n",
            "Requirement already satisfied: certifi>=2017.4.17 in /usr/local/lib/python3.7/dist-packages (from requests>=2.9.1->icrawler) (2021.10.8)\n",
            "Requirement already satisfied: urllib3!=1.25.0,!=1.25.1,<1.26,>=1.21.1 in /usr/local/lib/python3.7/dist-packages (from requests>=2.9.1->icrawler) (1.24.3)\n",
            "Installing collected packages: icrawler\n",
            "Successfully installed icrawler-0.6.6\n"
          ]
        }
      ]
    },
    {
      "cell_type": "code",
      "metadata": {
        "colab": {
          "base_uri": "https://localhost:8080/"
        },
        "id": "nBzUNkT5oIUZ",
        "outputId": "377e6abb-3078-45f1-fe89-6353367c6612"
      },
      "source": [
        "# from icrawler.builtin import GoogleImageCrawler\n",
        "# 猫の画像を100枚取得\n",
        "# crawler = GoogleImageCrawler(storage={\"root_dir\": \"cats\"})\n",
        "# crawler.crawl(keyword=\"猫\", max_num=100)\n",
        "from icrawler.builtin import BingImageCrawler\n",
        "\n",
        "# 猫の画像を100枚取得\n",
        "crawler = BingImageCrawler(storage={\"root_dir\": \"cat\"})\n",
        "crawler.crawl(keyword=\"猫\", max_num=100)"
      ],
      "execution_count": 3,
      "outputs": [
        {
          "output_type": "stream",
          "name": "stderr",
          "text": [
            "2021-11-10 06:55:06,360 - INFO - icrawler.crawler - start crawling...\n",
            "2021-11-10 06:55:06,364 - INFO - icrawler.crawler - starting 1 feeder threads...\n",
            "2021-11-10 06:55:06,368 - INFO - feeder - thread feeder-001 exit\n",
            "2021-11-10 06:55:06,369 - INFO - icrawler.crawler - starting 1 parser threads...\n",
            "2021-11-10 06:55:06,374 - INFO - icrawler.crawler - starting 1 downloader threads...\n",
            "2021-11-10 06:55:06,685 - INFO - parser - parsing result page https://www.bing.com/images/async?q=猫&first=0\n",
            "2021-11-10 06:55:09,810 - INFO - downloader - image #1\thttps://img.zcool.cn/community/0160875c7cda32a801203d226e0076.jpg\n",
            "2021-11-10 06:55:12,461 - INFO - downloader - image #2\thttps://img.zcool.cn/community/01d3a15ce78b6aa80121a470fc0081.jpg\n",
            "2021-11-10 06:55:13,467 - INFO - downloader - image #3\thttps://img.zcool.cn/community/018e635d39062ca8012187f44e8763.jpg\n",
            "2021-11-10 06:55:14,676 - INFO - downloader - image #4\thttps://img.zcool.cn/community/01a1365c7cda34a801213f26fe09b3.jpg\n",
            "2021-11-10 06:55:15,639 - INFO - downloader - image #5\thttps://img.zcool.cn/community/01aa385ce76af8a801208f8b3e7fa4.jpg\n",
            "2021-11-10 06:55:16,384 - INFO - downloader - image #6\thttps://pic2.zhimg.com/v2-66c2763d073f4463320ab3a8cd0afd22_r.jpg\n",
            "2021-11-10 06:55:17,682 - INFO - downloader - image #7\thttps://img.zcool.cn/community/01aa135d2b373ba80120b5abbca161.jpg\n",
            "2021-11-10 06:55:20,779 - INFO - downloader - image #8\thttps://gss0.baidu.com/7Po3dSag_xI4khGko9WTAnF6hhy/zhidao/pic/item/aec379310a55b3194cece41a42a98226cffc1743.jpg\n",
            "2021-11-10 06:55:21,278 - INFO - downloader - image #9\thttps://picb.zhimg.com/v2-da61ef870f48874a55705ed9ee1a5e3f_r.jpg\n",
            "2021-11-10 06:55:22,043 - INFO - downloader - image #10\thttps://img.zcool.cn/community/0118ce5d2b3735a8012148372b99cb.jpg\n",
            "2021-11-10 06:55:23,008 - INFO - downloader - image #11\thttps://pic1.zhimg.com/v2-9178f932ba4819c4804f4dd5386c64f2_r.jpg\n",
            "2021-11-10 06:55:23,535 - INFO - downloader - image #12\thttps://img.zcool.cn/community/0111d45d2b3738a80121483734873a.jpg\n",
            "2021-11-10 06:55:24,017 - INFO - downloader - image #13\thttps://img.zcool.cn/community/01cd4d5d65f217a8012187f44a8e68.jpg\n",
            "2021-11-10 06:55:24,751 - INFO - downloader - image #14\thttps://img.zcool.cn/community/0130da5d2b3733a80120b5ab7e5b4f.jpg\n",
            "2021-11-10 06:55:26,045 - INFO - downloader - image #15\thttps://uploadfile.bizhizu.cn/up/81/91/30/8191302f5aa008e608ff4e5ce0d1c70f.jpg\n",
            "2021-11-10 06:55:27,275 - INFO - downloader - image #16\thttps://img.zcool.cn/community/016f405d2b3735a80120b5ab031177.jpg\n",
            "2021-11-10 06:55:28,491 - INFO - downloader - image #17\thttps://img.zcool.cn/community/0191b65d392b63a80120695c1316f3.jpg\n",
            "2021-11-10 06:55:29,325 - INFO - downloader - image #18\thttps://img.zcool.cn/community/01c0665543065f0000019ae92d2f01.jpg\n",
            "2021-11-10 06:55:30,299 - INFO - downloader - image #19\thttps://img.zcool.cn/community/0146d25d96bb97a8012060be8b4497.jpg\n",
            "2021-11-10 06:55:32,002 - INFO - downloader - image #20\thttps://img.zcool.cn/community/01d46f5ccb2c28a801214168a4fad2.jpg\n",
            "2021-11-10 06:55:32,540 - INFO - parser - parsing result page https://www.bing.com/images/async?q=猫&first=20\n",
            "2021-11-10 06:55:32,573 - INFO - downloader - image #21\thttps://pic4.zhimg.com/v2-ae9128beadc9a6121d50bbfa87d1d44d_r.jpg\n",
            "2021-11-10 06:55:35,312 - INFO - downloader - image #22\thttp://pc.chuangyezong.com/data/file/20200104/2020010482130.jpg\n",
            "2021-11-10 06:55:39,718 - INFO - downloader - image #23\thttp://img.iwocool.com/allimg/1912/1-19122G05947.jpg\n",
            "2021-11-10 06:55:40,940 - INFO - downloader - image #24\thttps://img.zcool.cn/community/01f6c15d4e3153a80120695c328d5a.jpg\n",
            "2021-11-10 06:55:41,013 - INFO - downloader - image #25\thttps://pic2.zhimg.com/v2-245b72c06c5748ad22584055f06ad7b0_r.jpg\n",
            "2021-11-10 06:55:42,279 - INFO - downloader - image #26\thttps://img.zcool.cn/community/015e065d4b9acea8012187f4399be5.jpg\n",
            "2021-11-10 06:55:42,376 - INFO - downloader - image #27\thttps://pic4.zhimg.com/v2-67b36af9cea11f0ffa0f819b16c76282_r.jpg\n",
            "2021-11-10 06:55:44,447 - INFO - downloader - image #28\thttps://picb0.photophoto.cn/40/227/40227050_1.jpg\n",
            "2021-11-10 06:55:50,679 - INFO - parser - parsing result page https://www.bing.com/images/async?q=猫&first=40\n",
            "2021-11-10 06:56:05,556 - INFO - downloader - image #29\thttp://pic.cgcep.com/1509592853550.jpg\n",
            "2021-11-10 06:56:06,900 - INFO - downloader - image #30\thttps://img.zcool.cn/community/01871c5d39077ba80120695c6a12fe.jpg\n",
            "2021-11-10 06:56:07,794 - ERROR - downloader - Response status code 404, file https://img95.699pic.com/photo/50135/8161.jpg\n",
            "2021-11-10 06:56:07,864 - INFO - downloader - image #31\thttps://pic2.zhimg.com/v2-996dc999deb68a4e6fd06c592ca1f40a_r.jpg\n",
            "2021-11-10 06:56:08,465 - INFO - downloader - image #32\thttp://i0.hdslb.com/bfs/archive/a5ba8594cfb3a840996f7d148a81fc7d0a5caf8c.jpg\n",
            "2021-11-10 06:56:09,367 - INFO - downloader - image #33\thttps://pic1.zhimg.com/v2-d70cc9409fb3f7e0026c20fc41905704_r.jpg\n",
            "2021-11-10 06:56:11,348 - INFO - downloader - image #34\thttps://img.zcool.cn/community/0152d55d39124aa8012187f44219c5.jpg\n",
            "2021-11-10 06:56:16,317 - INFO - downloader - image #35\thttp://pic.cgcep.com/image/20180725/20180725154729_41030.jpg\n",
            "2021-11-10 06:56:16,546 - INFO - parser - parsing result page https://www.bing.com/images/async?q=猫&first=60\n",
            "2021-11-10 06:56:17,290 - INFO - downloader - image #36\thttps://img.zcool.cn/community/01889c5d3914f7a8012187f479ea38.jpg\n",
            "2021-11-10 06:56:19,590 - INFO - downloader - image #37\thttp://up.netbian.net/pic/9e/24/c2/9e24c29b38e1a4e90b58c14ffedf0abf.jpg\n",
            "2021-11-10 06:56:20,409 - INFO - downloader - image #38\thttps://img.zcool.cn/community/01e31459b236f7a8012028a96cdf31.jpg\n",
            "2021-11-10 06:56:21,371 - INFO - downloader - image #39\thttps://img.zcool.cn/community/0183225d5658f8a80120695cea28cd.jpg\n",
            "2021-11-10 06:56:22,108 - INFO - downloader - image #40\thttps://img.zcool.cn/community/01582c5d566cc2a80120695c75c58a.jpg\n",
            "2021-11-10 06:56:22,311 - INFO - downloader - image #41\thttps://pic4.zhimg.com/v2-1fe7d9c7bb8d2c1d3e80fa33bfaa7037_r.jpg\n",
            "2021-11-10 06:56:23,586 - INFO - downloader - image #42\thttp://img.boqiicdn.com/Data/BK/A/1408/4/img28861407130768.jpg\n",
            "2021-11-10 06:56:24,567 - INFO - downloader - image #43\thttps://img.zcool.cn/community/014d1f5d391668a8012187f4a2d596.jpg\n",
            "2021-11-10 06:56:24,597 - INFO - downloader - image #44\thttps://pic4.zhimg.com/v2-aa8fc5076b779ae361dd1546efec57d7_r.jpg\n",
            "2021-11-10 06:56:25,561 - INFO - downloader - image #45\thttps://img.zcool.cn/community/01c9df5d4e3150a80120695c49c8ad.jpg\n",
            "2021-11-10 06:56:28,178 - INFO - downloader - image #46\thttps://img.pconline.com.cn/images/upload/upc/tx/itbbs/1412/06/c3/301650_1417859235294_mthumb.jpg\n",
            "2021-11-10 06:56:31,480 - INFO - downloader - image #47\thttps://img.zcool.cn/community/0111595d4b9520a8012187f4a85b75.jpg\n",
            "2021-11-10 06:56:32,402 - INFO - parser - parsing result page https://www.bing.com/images/async?q=猫&first=80\n",
            "2021-11-10 06:56:33,323 - INFO - downloader - image #48\thttp://wallpaper.1-jp.com/wallpaper/13/189wallpaper-iphone6.jpg\n",
            "2021-11-10 06:56:33,926 - INFO - downloader - image #49\thttps://pic3.zhimg.com/v2-83899564d2eb7707db2ab3cce32e1cc1_r.jpg\n",
            "2021-11-10 06:56:34,543 - INFO - downloader - image #50\thttp://i1.hdslb.com/bfs/archive/3acc31bc27b5de7f39ac6836cdd71fec3e1a6ed9.jpg\n",
            "2021-11-10 06:56:34,586 - INFO - downloader - image #51\thttp://i0.hdslb.com/bfs/archive/6d7d0fa3eb5a7a8d493584292f9e25681238d906.jpg\n",
            "2021-11-10 06:56:34,891 - INFO - downloader - image #52\thttps://pic1.zhimg.com/v2-cd501ca13b3095ab5d22d4c4be33fb01_r.jpg\n",
            "2021-11-10 06:56:36,096 - INFO - downloader - image #53\thttps://img.zcool.cn/community/0189265d65f11ea8012187f4a57467.jpg\n",
            "2021-11-10 06:56:37,392 - INFO - downloader - image #54\thttps://img.zcool.cn/community/01807f5da6c350a8012163ba8a2185.jpg\n",
            "2021-11-10 06:56:38,836 - INFO - downloader - image #55\thttps://img.zcool.cn/community/01b9675d39166aa80120695c48d1ff.jpg\n",
            "2021-11-10 06:56:39,630 - INFO - downloader - image #56\thttps://img.zcool.cn/community/01dcd05d390c78a80120695cf934d9.jpg\n",
            "2021-11-10 06:56:41,574 - INFO - downloader - image #57\thttps://img.zcool.cn/community/01ad485d566969a8012187f4ff39e0.jpg\n",
            "2021-11-10 06:56:42,814 - INFO - downloader - image #58\thttps://img.zcool.cn/community/01ed745d391668a80120695c6d207d.jpg\n",
            "2021-11-10 06:56:44,061 - INFO - downloader - image #59\thttps://img.zcool.cn/community/017f3e58a10b20a8012060c8428ec3.jpg\n",
            "2021-11-10 06:56:45,334 - INFO - downloader - image #60\thttp://www.chabeichong.com/images/2016/11/27-1325259.jpg\n",
            "2021-11-10 06:56:45,642 - INFO - parser - no more page urls for thread parser-001 to parse\n",
            "2021-11-10 06:56:45,643 - INFO - parser - thread parser-001 exit\n",
            "2021-11-10 06:56:48,873 - INFO - downloader - image #61\thttps://img.zcool.cn/community/0138825aec6340a801219b7f03a517.jpg\n",
            "2021-11-10 06:56:50,204 - INFO - downloader - image #62\thttps://img.zcool.cn/community/01e8e85d3920a3a8012187f475cd8d.jpg\n",
            "2021-11-10 06:56:51,850 - INFO - downloader - image #63\thttps://img.zcool.cn/community/013b7d5d392318a8012187f4140585.jpg\n",
            "2021-11-10 06:56:53,067 - INFO - downloader - image #64\thttps://img.zcool.cn/community/0131985568d24b00000127169a4b4e.jpg\n",
            "2021-11-10 06:56:58,072 - INFO - downloader - no more download task for thread downloader-001\n",
            "2021-11-10 06:56:58,074 - INFO - downloader - thread downloader-001 exit\n",
            "2021-11-10 06:56:58,505 - INFO - icrawler.crawler - Crawling task done!\n"
          ]
        }
      ]
    }
  ]
}